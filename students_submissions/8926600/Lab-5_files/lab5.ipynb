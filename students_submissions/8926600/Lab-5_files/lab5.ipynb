{
 "cells": [
  {
   "cell_type": "code",
   "execution_count": 31,
   "metadata": {},
   "outputs": [],
   "source": [
    "import numpy as np\n",
    "import pandas as pd\n",
    "from sklearn import datasets\n",
    "from sklearn.datasets import load_diabetes\n",
    "from sklearn.metrics import mean_absolute_error, mean_squared_error ,mean_absolute_percentage_error\n",
    "from sklearn.model_selection import cross_val_score\n",
    "from sklearn.preprocessing import PolynomialFeatures\n",
    "from sklearn.linear_model import LinearRegression\n",
    "from sklearn.pipeline import make_pipeline\n",
    "from sklearn.metrics import get_scorer_names\n",
    "from tabulate import tabulate\n"
   ]
  },
  {
   "cell_type": "markdown",
   "metadata": {},
   "source": [
    "Utilize the diabetes dataset from lab 4."
   ]
  },
  {
   "cell_type": "code",
   "execution_count": 32,
   "metadata": {},
   "outputs": [],
   "source": [
    "# Load the diabetes dataset\n",
    "X, y = datasets.load_diabetes(as_frame=True, scaled=False, return_X_y=True)"
   ]
  },
  {
   "cell_type": "markdown",
   "metadata": {},
   "source": [
    "Perform cross-validation on nine polynomial models, ranging from degree 0 to 8"
   ]
  },
  {
   "cell_type": "code",
   "execution_count": 33,
   "metadata": {},
   "outputs": [
    {
     "name": "stdout",
     "output_type": "stream",
     "text": [
      "[(0, -0.02750604135376733, 0.03677220036298531, 66.04562360767684, 3.474660324845233)]\n",
      "[(0, -0.02750604135376733, 0.03677220036298531, 66.04562360767684, 3.474660324845233), (1, 0.4823164359086422, 0.049268577511903694, 44.276499233214956, 2.1001103035211095)]\n",
      "[(0, -0.02750604135376733, 0.03677220036298531, 66.04562360767684, 3.474660324845233), (1, 0.4823164359086422, 0.049268577511903694, 44.276499233214956, 2.1001103035211095), (2, -0.0978150645318944, 0.4232014428635416, 58.6074164272149, 11.75494973474989)]\n",
      "[(0, -0.02750604135376733, 0.03677220036298531, 66.04562360767684, 3.474660324845233), (1, 0.4823164359086422, 0.049268577511903694, 44.276499233214956, 2.1001103035211095), (2, -0.0978150645318944, 0.4232014428635416, 58.6074164272149, 11.75494973474989), (3, -199.79691539603033, 226.9769925116093, 330.4327451894503, 147.82067659449095)]\n",
      "[(0, -0.02750604135376733, 0.03677220036298531, 66.04562360767684, 3.474660324845233), (1, 0.4823164359086422, 0.049268577511903694, 44.276499233214956, 2.1001103035211095), (2, -0.0978150645318944, 0.4232014428635416, 58.6074164272149, 11.75494973474989), (3, -199.79691539603033, 226.9769925116093, 330.4327451894503, 147.82067659449095), (4, -571.0831077464735, 369.89188349627955, 657.2604770600601, 159.4759022487286)]\n",
      "[(0, -0.02750604135376733, 0.03677220036298531, 66.04562360767684, 3.474660324845233), (1, 0.4823164359086422, 0.049268577511903694, 44.276499233214956, 2.1001103035211095), (2, -0.0978150645318944, 0.4232014428635416, 58.6074164272149, 11.75494973474989), (3, -199.79691539603033, 226.9769925116093, 330.4327451894503, 147.82067659449095), (4, -571.0831077464735, 369.89188349627955, 657.2604770600601, 159.4759022487286), (5, -436.8568871379918, 379.1004233097066, 562.9936356104611, 59.91720177029111)]\n",
      "[(0, -0.02750604135376733, 0.03677220036298531, 66.04562360767684, 3.474660324845233), (1, 0.4823164359086422, 0.049268577511903694, 44.276499233214956, 2.1001103035211095), (2, -0.0978150645318944, 0.4232014428635416, 58.6074164272149, 11.75494973474989), (3, -199.79691539603033, 226.9769925116093, 330.4327451894503, 147.82067659449095), (4, -571.0831077464735, 369.89188349627955, 657.2604770600601, 159.4759022487286), (5, -436.8568871379918, 379.1004233097066, 562.9936356104611, 59.91720177029111), (6, -1695.4773596109303, 2632.416213848212, 742.5607413122768, 191.04302573043773)]\n",
      "[(0, -0.02750604135376733, 0.03677220036298531, 66.04562360767684, 3.474660324845233), (1, 0.4823164359086422, 0.049268577511903694, 44.276499233214956, 2.1001103035211095), (2, -0.0978150645318944, 0.4232014428635416, 58.6074164272149, 11.75494973474989), (3, -199.79691539603033, 226.9769925116093, 330.4327451894503, 147.82067659449095), (4, -571.0831077464735, 369.89188349627955, 657.2604770600601, 159.4759022487286), (5, -436.8568871379918, 379.1004233097066, 562.9936356104611, 59.91720177029111), (6, -1695.4773596109303, 2632.416213848212, 742.5607413122768, 191.04302573043773), (7, -5530.89407423925, 9518.58695309397, 1032.6817251177276, 393.43961674853165)]\n",
      "[(0, -0.02750604135376733, 0.03677220036298531, 66.04562360767684, 3.474660324845233), (1, 0.4823164359086422, 0.049268577511903694, 44.276499233214956, 2.1001103035211095), (2, -0.0978150645318944, 0.4232014428635416, 58.6074164272149, 11.75494973474989), (3, -199.79691539603033, 226.9769925116093, 330.4327451894503, 147.82067659449095), (4, -571.0831077464735, 369.89188349627955, 657.2604770600601, 159.4759022487286), (5, -436.8568871379918, 379.1004233097066, 562.9936356104611, 59.91720177029111), (6, -1695.4773596109303, 2632.416213848212, 742.5607413122768, 191.04302573043773), (7, -5530.89407423925, 9518.58695309397, 1032.6817251177276, 393.43961674853165), (8, -16076.255118015679, 28049.95258068727, 1475.6585320724434, 706.2802739476798)]\n"
     ]
    }
   ],
   "source": [
    "d = np.arange(0, 9)\n",
    "cvd = []\n",
    "cv_results = []\n",
    "for degree in range(9):\n",
    "    model = make_pipeline(PolynomialFeatures(degree), LinearRegression())    \n",
    "\n",
    "    scores = cross_val_score(model, X, y, cv=5, scoring='r2')\n",
    "    mean_r2 = scores.mean()\n",
    "    std_r2 = scores.std()\n",
    "    mae = -cross_val_score(model, X, y, cv=5, scoring='neg_mean_absolute_error')\n",
    "    mean_mae = mae.mean()\n",
    "    std_mae = mae.std()\n",
    "    cvd.append((degree, mean_r2, std_r2, mean_mae, std_mae))\n",
    "    print(cvd)"
   ]
  },
  {
   "cell_type": "markdown",
   "metadata": {},
   "source": [
    "Construct a table summarizing the cross-validation results. Each model should have a separate row in the table. Include the R-Squared, Mean Absolute Error (MAE) and MAPE metrics for each model. Calculate the mean value and standard deviation of these metrics from the cross-validation. Include both values. (2 points)"
   ]
  },
  {
   "cell_type": "code",
   "execution_count": 44,
   "metadata": {},
   "outputs": [
    {
     "name": "stdout",
     "output_type": "stream",
     "text": [
      "+----+----------+------------------+-----------------+------------+-----------+\n",
      "|    |   degree |   mean_R_squared |   std_R_squared |   mean_MAE |   std_MAE |\n",
      "|----+----------+------------------+-----------------+------------+-----------|\n",
      "|  0 |        0 |       -0.027506  |       0.0367722 |    66.0456 |   3.47466 |\n",
      "|  1 |        1 |        0.482316  |       0.0492686 |    44.2765 |   2.10011 |\n",
      "|  2 |        2 |       -0.0978151 |       0.423201  |    58.6074 |  11.7549  |\n",
      "|  3 |        3 |     -199.797     |     226.977     |   330.433  | 147.821   |\n",
      "|  4 |        4 |     -571.083     |     369.892     |   657.26   | 159.476   |\n",
      "|  5 |        5 |     -436.857     |     379.1       |   562.994  |  59.9172  |\n",
      "|  6 |        6 |    -1695.48      |    2632.42      |   742.561  | 191.043   |\n",
      "|  7 |        7 |    -5530.89      |    9518.59      |  1032.68   | 393.44    |\n",
      "|  8 |        8 |   -16076.3       |   28050         |  1475.66   | 706.28    |\n",
      "+----+----------+------------------+-----------------+------------+-----------+\n"
     ]
    }
   ],
   "source": [
    "final = pd.DataFrame(cvd)\n",
    "final.columns = ['degree', 'mean_R_squared', 'std_R_squared', 'mean_MAE', 'std_MAE']\n",
    "print(tabulate(final, headers=final.columns,tablefmt='psql'))"
   ]
  },
  {
   "cell_type": "markdown",
   "metadata": {},
   "source": [
    "Identification of the Best Model: Identify the model that exhibits the highest performance based on the R-Squared and MAE metrics. Provide an explanation for choosing this specific model. (2 points)"
   ]
  },
  {
   "cell_type": "code",
   "execution_count": 47,
   "metadata": {},
   "outputs": [
    {
     "name": "stdout",
     "output_type": "stream",
     "text": [
      "R_squred based best model:\n",
      "Degree: 1.0, R-Squared: 0.4823, Std R-Squared: 0.0493\n",
      "MAE based best model\n",
      "Degree: 1, MAE: 44.2765, Std MAE: 2.1001\n"
     ]
    }
   ],
   "source": [
    "r2_index = np.argmax(final.iloc[:, 1])\n",
    "mae_index = np.argmin(final.iloc[:, 3])\n",
    "\n",
    "r2_degree,r2, std_r2 = final.iloc[r2_index, :3]\n",
    "mae_degree, mae, std_mae = final.iloc[mae_index, 0], final.iloc[mae_index, 3], final.iloc[mae_index, 4]\n",
    "\n",
    "print(\"R_squred based best model:\")\n",
    "print(f\"Degree: {r2_degree}, R-Squared: {r2:.4f}, Std R-Squared: {std_r2:.4f}\")\n",
    "\n",
    "print(\"MAE based best model\")\n",
    "print(f\"Degree: {mae_degree}, MAE: {mae:.4f}, Std MAE: {std_mae:.4f}\")"
   ]
  }
 ],
 "metadata": {
  "kernelspec": {
   "display_name": "Python 3",
   "language": "python",
   "name": "python3"
  },
  "language_info": {
   "codemirror_mode": {
    "name": "ipython",
    "version": 3
   },
   "file_extension": ".py",
   "mimetype": "text/x-python",
   "name": "python",
   "nbconvert_exporter": "python",
   "pygments_lexer": "ipython3",
   "version": "3.12.0"
  }
 },
 "nbformat": 4,
 "nbformat_minor": 2
}
